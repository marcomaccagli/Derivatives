{
  "nbformat": 4,
  "nbformat_minor": 0,
  "metadata": {
    "colab": {
      "name": "Longstaff - Schwartz Model.ipynb",
      "provenance": [],
      "collapsed_sections": []
    },
    "kernelspec": {
      "name": "python3",
      "display_name": "Python 3"
    }
  },
  "cells": [
    {
      "cell_type": "markdown",
      "metadata": {
        "id": "RRmrBu-npH_a",
        "colab_type": "text"
      },
      "source": [
        "## American Put Options"
      ]
    },
    {
      "cell_type": "markdown",
      "metadata": {
        "id": "uYi_GYrXmANg",
        "colab_type": "text"
      },
      "source": [
        "First, let's create a path using a geometric brownian motion\n",
        "\n",
        "![image.png](data:image/png;base64,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)"
      ]
    },
    {
      "cell_type": "code",
      "metadata": {
        "id": "AdTm6t8snPIz",
        "colab_type": "code",
        "colab": {}
      },
      "source": [
        "import numpy as np\n",
        "import scipy.stats as ss\n",
        "\n",
        "import matplotlib.pyplot as plt\n",
        "%matplotlib inline\n",
        "from IPython.display import display\n",
        "import sympy; sympy.init_printing()\n",
        "\n",
        "def display_matrix(m):\n",
        "    display(sympy.Matrix(m))"
      ],
      "execution_count": 1,
      "outputs": []
    },
    {
      "cell_type": "code",
      "metadata": {
        "id": "6T69u6oh4SfD",
        "colab_type": "code",
        "colab": {}
      },
      "source": [
        "def gen_paths(S0, r, vol, T, N, I):\n",
        "    dt = float(T) / N\n",
        "    paths = np.zeros((N + 1, I), np.float64)\n",
        "    paths[0] = S0\n",
        "    for t in range(1, N + 1):\n",
        "        rand = np.random.standard_normal(I)\n",
        "        paths[t] = paths[t - 1] * np.exp((r - 0.5 * sigma ** 2) * dt +\n",
        "                                         vol * np.sqrt(dt) * rand)\n",
        "    return paths"
      ],
      "execution_count": 2,
      "outputs": []
    },
    {
      "cell_type": "code",
      "metadata": {
        "id": "PBj6H1sS4aJV",
        "colab_type": "code",
        "colab": {}
      },
      "source": [
        "S0 = 50.\n",
        "K = 50.\n",
        "r = 0.05\n",
        "sigma = 0.234\n",
        "T = 3\n",
        "N = 10000\n",
        "i = 10000\n",
        "dt = T/(N-1)          # time interval\n",
        "df = np.exp(-r * dt)  # discount factor per time interval"
      ],
      "execution_count": 8,
      "outputs": []
    },
    {
      "cell_type": "code",
      "metadata": {
        "id": "-6C02pX04aD4",
        "colab_type": "code",
        "colab": {}
      },
      "source": [
        "np.random.seed(123)\n",
        "S = gen_paths(S0, r, sigma, T, N, i).T"
      ],
      "execution_count": 9,
      "outputs": []
    },
    {
      "cell_type": "code",
      "metadata": {
        "id": "1bQCW7l6oQt4",
        "colab_type": "code",
        "colab": {}
      },
      "source": [
        "#display_matrix(S)"
      ],
      "execution_count": 12,
      "outputs": []
    },
    {
      "cell_type": "code",
      "metadata": {
        "id": "qqzNA5nEm6NC",
        "colab_type": "code",
        "colab": {}
      },
      "source": [
        "IVP = np.maximum(K - S, 0)            # intrinsic values for put option\n",
        "V = np.zeros_like(IVP)                # value matrix\n",
        "V[:,-1] = H[:,-1]"
      ],
      "execution_count": 14,
      "outputs": []
    },
    {
      "cell_type": "markdown",
      "metadata": {
        "id": "6ykIrLU56hMB",
        "colab_type": "text"
      },
      "source": [
        "# Valuation using Longstaff - Schwartz model"
      ]
    },
    {
      "cell_type": "code",
      "metadata": {
        "id": "2ieNWkZIn7tb",
        "colab_type": "code",
        "colab": {
          "base_uri": "https://localhost:8080/",
          "height": 35
        },
        "outputId": "c45b94c0-0850-4a40-e561-1d3bcacdc088"
      },
      "source": [
        "for t in range(N-2, 0, -1):\n",
        "\n",
        "    positive_paths = IVP[:,t] > 0         \n",
        "    \n",
        "    reg = np.polyfit( S[positive_paths, t], V[positive_paths, t+1] * df, 2)    # polynomial regression\n",
        "    C = np.polyval( reg, S[positive_paths,t] )                             # evaluation of regression  \n",
        "    \n",
        "    exercise = np.zeros( len(positive_paths), dtype=bool)    \n",
        "    exercise[positive_paths] = IVP[positive_paths,t] > C          \n",
        "    \n",
        "    V[exercise,t] = IVP[exercise,t]                        # set V equal to H where it is optimal to exercise \n",
        "    V[exercise,t+1:] = 0                                   # set future cash flows, for that path, equal to zero  \n",
        "    discount_path = (V[:,t] == 0)                          # paths where we didn't exercise \n",
        "    V[discount_path,t] = V[discount_path,t+1] * df         # set V[t] in continuation region\n",
        "    \n",
        "V0 = np.mean(V[:,1]) * df   # discount expected values of V[t=1]\n",
        "print(V0)"
      ],
      "execution_count": 15,
      "outputs": [
        {
          "output_type": "stream",
          "text": [
            "5.349251722951821\n"
          ],
          "name": "stdout"
        }
      ]
    }
  ]
}
