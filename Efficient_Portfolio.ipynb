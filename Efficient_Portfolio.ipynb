{
  "nbformat": 4,
  "nbformat_minor": 0,
  "metadata": {
    "colab": {
      "name": "Efficient Portfolio.ipynb",
      "provenance": []
    },
    "kernelspec": {
      "name": "python3",
      "display_name": "Python 3"
    }
  },
  "cells": [
    {
      "cell_type": "code",
      "metadata": {
        "id": "se1qpZ4u335j",
        "colab_type": "code",
        "colab": {}
      },
      "source": [
        "# ! pip install yfinance\n",
        "# ! pip install pandas_datareader"
      ],
      "execution_count": 2,
      "outputs": []
    },
    {
      "cell_type": "code",
      "metadata": {
        "id": "8tjEuaFd4_I9",
        "colab_type": "code",
        "colab": {
          "base_uri": "https://localhost:8080/",
          "height": 72
        },
        "outputId": "ebb783aa-203d-44e8-c406-9c3fdeb3344b"
      },
      "source": [
        "import bs4 as bs\n",
        "import requests\n",
        "import yfinance as yf\n",
        "import datetime\n",
        "import numpy as np\n",
        "import pandas as pd\n",
        "import pandas_datareader.data as web\n",
        "import matplotlib.pyplot as plt\n",
        "import seaborn as sns\n",
        "import datetime as dt"
      ],
      "execution_count": 3,
      "outputs": [
        {
          "output_type": "stream",
          "text": [
            "/usr/local/lib/python3.6/dist-packages/pandas_datareader/compat/__init__.py:7: FutureWarning: pandas.util.testing is deprecated. Use the functions in the public API at pandas.testing instead.\n",
            "  from pandas.util.testing import assert_frame_equal\n"
          ],
          "name": "stderr"
        }
      ]
    },
    {
      "cell_type": "code",
      "metadata": {
        "id": "X2Y1raG_37sV",
        "colab_type": "code",
        "colab": {}
      },
      "source": [
        "tickers=[\"AIV\",\"AMZN\",\"CL\",\"EW\"]"
      ],
      "execution_count": 8,
      "outputs": []
    },
    {
      "cell_type": "code",
      "metadata": {
        "id": "6RoIXY1845zx",
        "colab_type": "code",
        "colab": {
          "base_uri": "https://localhost:8080/",
          "height": 35
        },
        "outputId": "86f80bdb-450d-47c5-f6fd-1020f2e17774"
      },
      "source": [
        "start = datetime.datetime(2010,1,1)\n",
        "end = datetime.datetime(2019,7,17)\n",
        "data = yf.download(tickers, start=start, end=end)"
      ],
      "execution_count": 9,
      "outputs": [
        {
          "output_type": "stream",
          "text": [
            "[*********************100%***********************]  4 of 4 completed\n"
          ],
          "name": "stdout"
        }
      ]
    },
    {
      "cell_type": "code",
      "metadata": {
        "id": "IkPKBRFK49zs",
        "colab_type": "code",
        "colab": {
          "base_uri": "https://localhost:8080/",
          "height": 370
        },
        "outputId": "46ee1048-b394-49a4-8df6-7f8402f344df"
      },
      "source": [
        "data.head()"
      ],
      "execution_count": 10,
      "outputs": [
        {
          "output_type": "execute_result",
          "data": {
            "text/html": [
              "<div>\n",
              "<style scoped>\n",
              "    .dataframe tbody tr th:only-of-type {\n",
              "        vertical-align: middle;\n",
              "    }\n",
              "\n",
              "    .dataframe tbody tr th {\n",
              "        vertical-align: top;\n",
              "    }\n",
              "\n",
              "    .dataframe thead tr th {\n",
              "        text-align: left;\n",
              "    }\n",
              "\n",
              "    .dataframe thead tr:last-of-type th {\n",
              "        text-align: right;\n",
              "    }\n",
              "</style>\n",
              "<table border=\"1\" class=\"dataframe\">\n",
              "  <thead>\n",
              "    <tr>\n",
              "      <th></th>\n",
              "      <th colspan=\"4\" halign=\"left\">Adj Close</th>\n",
              "      <th colspan=\"4\" halign=\"left\">Close</th>\n",
              "      <th colspan=\"4\" halign=\"left\">High</th>\n",
              "      <th colspan=\"4\" halign=\"left\">Low</th>\n",
              "      <th colspan=\"4\" halign=\"left\">Open</th>\n",
              "      <th colspan=\"4\" halign=\"left\">Volume</th>\n",
              "    </tr>\n",
              "    <tr>\n",
              "      <th></th>\n",
              "      <th>AIV</th>\n",
              "      <th>AMZN</th>\n",
              "      <th>CL</th>\n",
              "      <th>EW</th>\n",
              "      <th>AIV</th>\n",
              "      <th>AMZN</th>\n",
              "      <th>CL</th>\n",
              "      <th>EW</th>\n",
              "      <th>AIV</th>\n",
              "      <th>AMZN</th>\n",
              "      <th>CL</th>\n",
              "      <th>EW</th>\n",
              "      <th>AIV</th>\n",
              "      <th>AMZN</th>\n",
              "      <th>CL</th>\n",
              "      <th>EW</th>\n",
              "      <th>AIV</th>\n",
              "      <th>AMZN</th>\n",
              "      <th>CL</th>\n",
              "      <th>EW</th>\n",
              "      <th>AIV</th>\n",
              "      <th>AMZN</th>\n",
              "      <th>CL</th>\n",
              "      <th>EW</th>\n",
              "    </tr>\n",
              "    <tr>\n",
              "      <th>Date</th>\n",
              "      <th></th>\n",
              "      <th></th>\n",
              "      <th></th>\n",
              "      <th></th>\n",
              "      <th></th>\n",
              "      <th></th>\n",
              "      <th></th>\n",
              "      <th></th>\n",
              "      <th></th>\n",
              "      <th></th>\n",
              "      <th></th>\n",
              "      <th></th>\n",
              "      <th></th>\n",
              "      <th></th>\n",
              "      <th></th>\n",
              "      <th></th>\n",
              "      <th></th>\n",
              "      <th></th>\n",
              "      <th></th>\n",
              "      <th></th>\n",
              "      <th></th>\n",
              "      <th></th>\n",
              "      <th></th>\n",
              "      <th></th>\n",
              "    </tr>\n",
              "  </thead>\n",
              "  <tbody>\n",
              "    <tr>\n",
              "      <th>2010-01-04</th>\n",
              "      <td>11.140982</td>\n",
              "      <td>133.899994</td>\n",
              "      <td>29.419109</td>\n",
              "      <td>7.289166</td>\n",
              "      <td>15.960000</td>\n",
              "      <td>133.899994</td>\n",
              "      <td>41.424999</td>\n",
              "      <td>7.289166</td>\n",
              "      <td>16.350000</td>\n",
              "      <td>136.610001</td>\n",
              "      <td>41.439999</td>\n",
              "      <td>7.366667</td>\n",
              "      <td>15.810000</td>\n",
              "      <td>133.139999</td>\n",
              "      <td>40.930000</td>\n",
              "      <td>7.261667</td>\n",
              "      <td>16.150000</td>\n",
              "      <td>136.250000</td>\n",
              "      <td>41.244999</td>\n",
              "      <td>7.305833</td>\n",
              "      <td>1938700</td>\n",
              "      <td>7599900</td>\n",
              "      <td>4874200</td>\n",
              "      <td>3092400</td>\n",
              "    </tr>\n",
              "    <tr>\n",
              "      <th>2010-01-05</th>\n",
              "      <td>11.420205</td>\n",
              "      <td>134.690002</td>\n",
              "      <td>29.657007</td>\n",
              "      <td>7.341667</td>\n",
              "      <td>16.360001</td>\n",
              "      <td>134.690002</td>\n",
              "      <td>41.759998</td>\n",
              "      <td>7.341667</td>\n",
              "      <td>16.370001</td>\n",
              "      <td>135.479996</td>\n",
              "      <td>41.834999</td>\n",
              "      <td>7.341667</td>\n",
              "      <td>15.890000</td>\n",
              "      <td>131.809998</td>\n",
              "      <td>40.980000</td>\n",
              "      <td>7.262500</td>\n",
              "      <td>16.070000</td>\n",
              "      <td>133.429993</td>\n",
              "      <td>41.305000</td>\n",
              "      <td>7.266667</td>\n",
              "      <td>2070700</td>\n",
              "      <td>8851900</td>\n",
              "      <td>5296800</td>\n",
              "      <td>2787600</td>\n",
              "    </tr>\n",
              "    <tr>\n",
              "      <th>2010-01-06</th>\n",
              "      <td>11.622641</td>\n",
              "      <td>132.250000</td>\n",
              "      <td>29.589546</td>\n",
              "      <td>7.422500</td>\n",
              "      <td>16.650000</td>\n",
              "      <td>132.250000</td>\n",
              "      <td>41.665001</td>\n",
              "      <td>7.422500</td>\n",
              "      <td>16.889999</td>\n",
              "      <td>134.729996</td>\n",
              "      <td>41.875000</td>\n",
              "      <td>7.455833</td>\n",
              "      <td>16.360001</td>\n",
              "      <td>131.649994</td>\n",
              "      <td>41.200001</td>\n",
              "      <td>7.309166</td>\n",
              "      <td>16.360001</td>\n",
              "      <td>134.600006</td>\n",
              "      <td>41.810001</td>\n",
              "      <td>7.357500</td>\n",
              "      <td>3797300</td>\n",
              "      <td>7178800</td>\n",
              "      <td>7195200</td>\n",
              "      <td>3009600</td>\n",
              "    </tr>\n",
              "    <tr>\n",
              "      <th>2010-01-07</th>\n",
              "      <td>12.048461</td>\n",
              "      <td>130.000000</td>\n",
              "      <td>29.472368</td>\n",
              "      <td>7.490000</td>\n",
              "      <td>17.260000</td>\n",
              "      <td>130.000000</td>\n",
              "      <td>41.500000</td>\n",
              "      <td>7.490000</td>\n",
              "      <td>17.360001</td>\n",
              "      <td>132.320007</td>\n",
              "      <td>41.535000</td>\n",
              "      <td>7.508333</td>\n",
              "      <td>16.430000</td>\n",
              "      <td>128.800003</td>\n",
              "      <td>41.125000</td>\n",
              "      <td>7.384167</td>\n",
              "      <td>16.590000</td>\n",
              "      <td>132.009995</td>\n",
              "      <td>41.529999</td>\n",
              "      <td>7.461667</td>\n",
              "      <td>3902600</td>\n",
              "      <td>11030200</td>\n",
              "      <td>3752200</td>\n",
              "      <td>2702400</td>\n",
              "    </tr>\n",
              "    <tr>\n",
              "      <th>2010-01-08</th>\n",
              "      <td>11.769234</td>\n",
              "      <td>133.520004</td>\n",
              "      <td>28.943281</td>\n",
              "      <td>7.456666</td>\n",
              "      <td>16.860001</td>\n",
              "      <td>133.520004</td>\n",
              "      <td>40.755001</td>\n",
              "      <td>7.456666</td>\n",
              "      <td>17.209999</td>\n",
              "      <td>133.679993</td>\n",
              "      <td>40.830002</td>\n",
              "      <td>7.569167</td>\n",
              "      <td>16.600000</td>\n",
              "      <td>129.029999</td>\n",
              "      <td>40.049999</td>\n",
              "      <td>7.443333</td>\n",
              "      <td>17.100000</td>\n",
              "      <td>130.559998</td>\n",
              "      <td>40.105000</td>\n",
              "      <td>7.553333</td>\n",
              "      <td>3825200</td>\n",
              "      <td>9830500</td>\n",
              "      <td>8150200</td>\n",
              "      <td>3574800</td>\n",
              "    </tr>\n",
              "  </tbody>\n",
              "</table>\n",
              "</div>"
            ],
            "text/plain": [
              "            Adj Close                         ...    Volume                  \n",
              "                  AIV        AMZN         CL  ...      AMZN       CL       EW\n",
              "Date                                          ...                            \n",
              "2010-01-04  11.140982  133.899994  29.419109  ...   7599900  4874200  3092400\n",
              "2010-01-05  11.420205  134.690002  29.657007  ...   8851900  5296800  2787600\n",
              "2010-01-06  11.622641  132.250000  29.589546  ...   7178800  7195200  3009600\n",
              "2010-01-07  12.048461  130.000000  29.472368  ...  11030200  3752200  2702400\n",
              "2010-01-08  11.769234  133.520004  28.943281  ...   9830500  8150200  3574800\n",
              "\n",
              "[5 rows x 24 columns]"
            ]
          },
          "metadata": {
            "tags": []
          },
          "execution_count": 10
        }
      ]
    },
    {
      "cell_type": "code",
      "metadata": {
        "id": "6FGcc--q5Ime",
        "colab_type": "code",
        "colab": {
          "base_uri": "https://localhost:8080/",
          "height": 233
        },
        "outputId": "d9ab5c43-a9b8-441b-84d8-1e5f65ba7c20"
      },
      "source": [
        "df=pd.DataFrame(data[\"Adj Close\"])\n",
        "df.head()"
      ],
      "execution_count": 11,
      "outputs": [
        {
          "output_type": "execute_result",
          "data": {
            "text/html": [
              "<div>\n",
              "<style scoped>\n",
              "    .dataframe tbody tr th:only-of-type {\n",
              "        vertical-align: middle;\n",
              "    }\n",
              "\n",
              "    .dataframe tbody tr th {\n",
              "        vertical-align: top;\n",
              "    }\n",
              "\n",
              "    .dataframe thead th {\n",
              "        text-align: right;\n",
              "    }\n",
              "</style>\n",
              "<table border=\"1\" class=\"dataframe\">\n",
              "  <thead>\n",
              "    <tr style=\"text-align: right;\">\n",
              "      <th></th>\n",
              "      <th>AIV</th>\n",
              "      <th>AMZN</th>\n",
              "      <th>CL</th>\n",
              "      <th>EW</th>\n",
              "    </tr>\n",
              "    <tr>\n",
              "      <th>Date</th>\n",
              "      <th></th>\n",
              "      <th></th>\n",
              "      <th></th>\n",
              "      <th></th>\n",
              "    </tr>\n",
              "  </thead>\n",
              "  <tbody>\n",
              "    <tr>\n",
              "      <th>2010-01-04</th>\n",
              "      <td>11.140982</td>\n",
              "      <td>133.899994</td>\n",
              "      <td>29.419109</td>\n",
              "      <td>7.289166</td>\n",
              "    </tr>\n",
              "    <tr>\n",
              "      <th>2010-01-05</th>\n",
              "      <td>11.420205</td>\n",
              "      <td>134.690002</td>\n",
              "      <td>29.657007</td>\n",
              "      <td>7.341667</td>\n",
              "    </tr>\n",
              "    <tr>\n",
              "      <th>2010-01-06</th>\n",
              "      <td>11.622641</td>\n",
              "      <td>132.250000</td>\n",
              "      <td>29.589546</td>\n",
              "      <td>7.422500</td>\n",
              "    </tr>\n",
              "    <tr>\n",
              "      <th>2010-01-07</th>\n",
              "      <td>12.048461</td>\n",
              "      <td>130.000000</td>\n",
              "      <td>29.472368</td>\n",
              "      <td>7.490000</td>\n",
              "    </tr>\n",
              "    <tr>\n",
              "      <th>2010-01-08</th>\n",
              "      <td>11.769234</td>\n",
              "      <td>133.520004</td>\n",
              "      <td>28.943281</td>\n",
              "      <td>7.456666</td>\n",
              "    </tr>\n",
              "  </tbody>\n",
              "</table>\n",
              "</div>"
            ],
            "text/plain": [
              "                  AIV        AMZN         CL        EW\n",
              "Date                                                  \n",
              "2010-01-04  11.140982  133.899994  29.419109  7.289166\n",
              "2010-01-05  11.420205  134.690002  29.657007  7.341667\n",
              "2010-01-06  11.622641  132.250000  29.589546  7.422500\n",
              "2010-01-07  12.048461  130.000000  29.472368  7.490000\n",
              "2010-01-08  11.769234  133.520004  28.943281  7.456666"
            ]
          },
          "metadata": {
            "tags": []
          },
          "execution_count": 11
        }
      ]
    },
    {
      "cell_type": "code",
      "metadata": {
        "id": "wC3Yjz2z5Pwa",
        "colab_type": "code",
        "colab": {}
      },
      "source": [
        "returns = df.pct_change()\n",
        "mean_return = returns.mean()\n",
        "return_stdev = returns.std()\n",
        "\n",
        "annualised_return = round(mean_return * 252, 4)\n",
        "annualised_stdev = round(return_stdev * np.sqrt(252), 4)"
      ],
      "execution_count": 12,
      "outputs": []
    },
    {
      "cell_type": "code",
      "metadata": {
        "id": "q29GVdox5c4T",
        "colab_type": "code",
        "colab": {}
      },
      "source": [
        "#calculate mean daily return and covariance of daily returns\n",
        "mean_daily_returns = returns.mean()\n",
        "cov_matrix = returns.cov()"
      ],
      "execution_count": 13,
      "outputs": []
    },
    {
      "cell_type": "code",
      "metadata": {
        "id": "Q4atL3_g5hHz",
        "colab_type": "code",
        "colab": {}
      },
      "source": [
        "#set number of runs of random portfolio weights\n",
        "num_portfolios = 50000"
      ],
      "execution_count": 14,
      "outputs": []
    },
    {
      "cell_type": "code",
      "metadata": {
        "id": "JyS5jTWM5kma",
        "colab_type": "code",
        "colab": {}
      },
      "source": [
        "#set up array to hold results\n",
        "\n",
        "results = np.zeros(((4+df.shape[1]-1),num_portfolios))"
      ],
      "execution_count": 15,
      "outputs": []
    },
    {
      "cell_type": "code",
      "metadata": {
        "id": "0O9Vl7FG5mx8",
        "colab_type": "code",
        "colab": {}
      },
      "source": [
        "for i in range(num_portfolios):\n",
        "    #select random weights for portfolio holdings\n",
        "    weights = np.array(np.random.random(df.shape[1]))\n",
        "    #rebalance weights to sum to 1\n",
        "    weights /= np.sum(weights)\n",
        "    #calculate portfolio return and volatility\n",
        "    portfolio_return = np.sum(mean_daily_returns * weights) * 252\n",
        "    portfolio_std_dev = np.sqrt(np.dot(weights.T, np.dot(cov_matrix, weights))) * np.sqrt(252)\n",
        "    #store results in results array\n",
        "    results[0,i] = portfolio_return\n",
        "    results[1,i] = portfolio_std_dev\n",
        "    #store Sharpe Ratio (return / volatility) - risk free rate element excluded for simplicity\n",
        "    results[2,i] = results[0,i] / results[1,i]\n",
        "    #iterate through the weight vector and add data to results array\n",
        "    for j in range(len(weights)):\n",
        "        results[j+3,i] = weights[j]"
      ],
      "execution_count": 16,
      "outputs": []
    },
    {
      "cell_type": "code",
      "metadata": {
        "id": "iUPe6Ezo5pHA",
        "colab_type": "code",
        "colab": {}
      },
      "source": [
        "#convert results array to Pandas DataFrame\n",
        "column_names=list(['ret','stdev','sharpe']) + list(df.columns)\n",
        "results_frame = pd.DataFrame(results.T, columns=column_names)"
      ],
      "execution_count": 17,
      "outputs": []
    },
    {
      "cell_type": "code",
      "metadata": {
        "id": "e33iBfxa5tJ9",
        "colab_type": "code",
        "colab": {
          "base_uri": "https://localhost:8080/",
          "height": 202
        },
        "outputId": "878f9f17-ec10-41b0-a953-14bbb393b496"
      },
      "source": [
        "results_frame[\"sanity_check\"]=results_frame.iloc[:,3:].sum(axis=1)\n",
        "results_frame.head()"
      ],
      "execution_count": 18,
      "outputs": [
        {
          "output_type": "execute_result",
          "data": {
            "text/html": [
              "<div>\n",
              "<style scoped>\n",
              "    .dataframe tbody tr th:only-of-type {\n",
              "        vertical-align: middle;\n",
              "    }\n",
              "\n",
              "    .dataframe tbody tr th {\n",
              "        vertical-align: top;\n",
              "    }\n",
              "\n",
              "    .dataframe thead th {\n",
              "        text-align: right;\n",
              "    }\n",
              "</style>\n",
              "<table border=\"1\" class=\"dataframe\">\n",
              "  <thead>\n",
              "    <tr style=\"text-align: right;\">\n",
              "      <th></th>\n",
              "      <th>ret</th>\n",
              "      <th>stdev</th>\n",
              "      <th>sharpe</th>\n",
              "      <th>AIV</th>\n",
              "      <th>AMZN</th>\n",
              "      <th>CL</th>\n",
              "      <th>EW</th>\n",
              "      <th>sanity_check</th>\n",
              "    </tr>\n",
              "  </thead>\n",
              "  <tbody>\n",
              "    <tr>\n",
              "      <th>0</th>\n",
              "      <td>0.235031</td>\n",
              "      <td>0.183444</td>\n",
              "      <td>1.281212</td>\n",
              "      <td>0.188283</td>\n",
              "      <td>0.247977</td>\n",
              "      <td>0.223706</td>\n",
              "      <td>0.340034</td>\n",
              "      <td>1.0</td>\n",
              "    </tr>\n",
              "    <tr>\n",
              "      <th>1</th>\n",
              "      <td>0.205971</td>\n",
              "      <td>0.164692</td>\n",
              "      <td>1.250646</td>\n",
              "      <td>0.318174</td>\n",
              "      <td>0.198888</td>\n",
              "      <td>0.309624</td>\n",
              "      <td>0.173315</td>\n",
              "      <td>1.0</td>\n",
              "    </tr>\n",
              "    <tr>\n",
              "      <th>2</th>\n",
              "      <td>0.221166</td>\n",
              "      <td>0.176459</td>\n",
              "      <td>1.253357</td>\n",
              "      <td>0.097263</td>\n",
              "      <td>0.220206</td>\n",
              "      <td>0.346269</td>\n",
              "      <td>0.336262</td>\n",
              "      <td>1.0</td>\n",
              "    </tr>\n",
              "    <tr>\n",
              "      <th>3</th>\n",
              "      <td>0.283827</td>\n",
              "      <td>0.230512</td>\n",
              "      <td>1.231288</td>\n",
              "      <td>0.105277</td>\n",
              "      <td>0.357025</td>\n",
              "      <td>0.015460</td>\n",
              "      <td>0.522237</td>\n",
              "      <td>1.0</td>\n",
              "    </tr>\n",
              "    <tr>\n",
              "      <th>4</th>\n",
              "      <td>0.198446</td>\n",
              "      <td>0.189703</td>\n",
              "      <td>1.046085</td>\n",
              "      <td>0.006216</td>\n",
              "      <td>0.041121</td>\n",
              "      <td>0.468264</td>\n",
              "      <td>0.484399</td>\n",
              "      <td>1.0</td>\n",
              "    </tr>\n",
              "  </tbody>\n",
              "</table>\n",
              "</div>"
            ],
            "text/plain": [
              "        ret     stdev    sharpe  ...        CL        EW  sanity_check\n",
              "0  0.235031  0.183444  1.281212  ...  0.223706  0.340034           1.0\n",
              "1  0.205971  0.164692  1.250646  ...  0.309624  0.173315           1.0\n",
              "2  0.221166  0.176459  1.253357  ...  0.346269  0.336262           1.0\n",
              "3  0.283827  0.230512  1.231288  ...  0.015460  0.522237           1.0\n",
              "4  0.198446  0.189703  1.046085  ...  0.468264  0.484399           1.0\n",
              "\n",
              "[5 rows x 8 columns]"
            ]
          },
          "metadata": {
            "tags": []
          },
          "execution_count": 18
        }
      ]
    },
    {
      "cell_type": "code",
      "metadata": {
        "id": "B4OAvBIv5tmP",
        "colab_type": "code",
        "colab": {}
      },
      "source": [
        "#locate position of portfolio with highest Sharpe Ratio\n",
        "max_sharpe_port = results_frame.iloc[results_frame['sharpe'].idxmax()]\n",
        "#locate positon of portfolio with minimum standard deviation\n",
        "min_vol_port = results_frame.iloc[results_frame['stdev'].idxmin()]"
      ],
      "execution_count": 19,
      "outputs": []
    },
    {
      "cell_type": "code",
      "metadata": {
        "id": "zO9wwrQd5vye",
        "colab_type": "code",
        "colab": {
          "base_uri": "https://localhost:8080/",
          "height": 515
        },
        "outputId": "a8f81783-93b0-4039-d08a-dae828835cb2"
      },
      "source": [
        "#create scatter plot coloured by Sharpe Ratio\n",
        "plt.figure(figsize=(12,8))\n",
        "plt.scatter(results_frame.stdev,results_frame.ret,c=results_frame.sharpe,cmap='plasma')\n",
        "plt.xlabel('Volatility')\n",
        "plt.ylabel('Returns')\n",
        "plt.colorbar()\n",
        "#plot red star to highlight position of portfolio with highest Sharpe Ratio\n",
        "plt.scatter(max_sharpe_port[1],max_sharpe_port[0],marker=(5,1,0),color='r', s=170, label=\"max_sharpe\")\n",
        "#plot green star to highlight position of minimum variance portfolio\n",
        "plt.scatter(min_vol_port[1],min_vol_port[0],marker=(5,1,0),color='g',s=170, label=\"min_vol\")\n",
        "plt.legend()"
      ],
      "execution_count": 20,
      "outputs": [
        {
          "output_type": "execute_result",
          "data": {
            "text/plain": [
              "<matplotlib.legend.Legend at 0x7fb65f05c8d0>"
            ]
          },
          "metadata": {
            "tags": []
          },
          "execution_count": 20
        },
        {
          "output_type": "display_data",
          "data": {
            "image/png": "[encoded data removed]",
            "text/plain": [
              "<Figure size 864x576 with 2 Axes>"
            ]
          },
          "metadata": {
            "tags": [],
            "needs_background": "light"
          }
        }
      ]
    }
  ]
}