{
  "nbformat": 4,
  "nbformat_minor": 0,
  "metadata": {
    "colab": {
      "name": "American Option Pricing - Binomial Tree.ipynb",
      "provenance": [],
      "collapsed_sections": []
    },
    "kernelspec": {
      "name": "python3",
      "display_name": "Python 3"
    }
  },
  "cells": [
    {
      "cell_type": "code",
      "metadata": {
        "id": "GhRzyey2oK4S",
        "colab_type": "code",
        "colab": {}
      },
      "source": [
        "import numpy as np"
      ],
      "execution_count": 1,
      "outputs": []
    },
    {
      "cell_type": "code",
      "metadata": {
        "id": "O797w7RooUKC",
        "colab_type": "code",
        "colab": {}
      },
      "source": [
        "class american_pricer:\n",
        "\n",
        "  def american_call(self, S0, K, T, rf, vol, N):\n",
        "    dT = float(T) / N                             # Delta t\n",
        "    u = np.exp(vol * np.sqrt(dT))                 # up factor\n",
        "    d = 1.0 / u                                   # down factor\n",
        "    V = np.zeros(N+1)                             # initialize the price vector\n",
        "    S_T = np.array( [(S0 * u**j * d**(N - j)) for j in range(N + 1)] )  # price S_T at time T\n",
        "    a = np.exp(rf * dT)    # risk free compound return\n",
        "    p = (a - d)/ (u - d)  # risk neutral up probability\n",
        "    q = 1.0 - p           # risk neutral down probability \n",
        "    V[:] = np.maximum(S_T - K, 0.0)\n",
        "    for i in range(N-1, -1, -1):\n",
        "      V[:-1] = np.exp(-rf*dT) * (p * V[1:] + q * V[:-1])    # the price vector is overwritten at each step\n",
        "      S_T = S_T * u                    # it is a tricky way to obtain the price at the previous time step\n",
        "      V = np.maximum( V, S_T-K )\n",
        "    V0=V[0]\n",
        "    return V0\n",
        "  \n",
        "  def american_put(self, S0, K, T, rf, vol, N):\n",
        "    dT = float(T) / N                             # Delta t\n",
        "    u  = np.exp(vol * np.sqrt(dT))                 # up factor\n",
        "    d  = 1.0 / u                                   # down factor\n",
        "    V = np.zeros(N+1)                             # initialize the price vector\n",
        "    S_T = np.array( [(S0 * u**j * d**(N - j)) for j in range(N + 1)] )  # price S_T at time T \n",
        "    a = np.exp(rf * dT)    # risk free compound return\n",
        "    p = (a - d)/ (u - d)  # risk neutral up probability\n",
        "    q = 1.0 - p           # risk neutral down probability \n",
        "    V[:] = np.maximum(K-S_T, 0.0)\n",
        "    for i in range(N-1, -1, -1):\n",
        "      V[:-1] = np.exp(-rf * dT) * (p * V[1:] + q * V[:-1])    # the price vector is overwritten at each step\n",
        "      S_T = S_T * u                    # it is a tricky way to obtain the price at the previous time step\n",
        "      V = np.maximum( V, K-S_T )\n",
        "    V0=V[0]\n",
        "    return V0\n",
        "\n",
        "\n",
        "  def __init__(self, S0, K, T, rf, vol, N):\n",
        "    self.S0 = S0\n",
        "    self.vol = vol\n",
        "    self.K = K\n",
        "    self.T = T\n",
        "    self.rf = rf\n",
        "    self.N = N \n",
        "    self.call_price=self.american_call(S0, K, T, rf, vol, N)\n",
        "    self.put_price=self.american_put(S0, K, T, rf, vol, N)\n",
        "\n"
      ],
      "execution_count": 10,
      "outputs": []
    },
    {
      "cell_type": "code",
      "metadata": {
        "id": "2z7XQpc5pq9a",
        "colab_type": "code",
        "colab": {
          "base_uri": "https://localhost:8080/",
          "height": 35
        },
        "outputId": "b7d1c6f3-8ea0-4b25-b2ad-364cbb90c835"
      },
      "source": [
        "american_pricer(50, 50, 3, 0.05, 0.234, 1000).call_price"
      ],
      "execution_count": 14,
      "outputs": [
        {
          "output_type": "execute_result",
          "data": {
            "text/plain": [
              "11.448465638573335"
            ]
          },
          "metadata": {
            "tags": []
          },
          "execution_count": 14
        }
      ]
    },
    {
      "cell_type": "code",
      "metadata": {
        "id": "fivSs0j4oJCA",
        "colab_type": "code",
        "colab": {
          "base_uri": "https://localhost:8080/",
          "height": 35
        },
        "outputId": "5076e0ab-2c67-4223-ef00-5bc3b2d007ad"
      },
      "source": [
        "american_pricer(50, 50, 3, 0.05, 0.234, 1000).put_price"
      ],
      "execution_count": 13,
      "outputs": [
        {
          "output_type": "execute_result",
          "data": {
            "text/plain": [
              "5.370632395869886"
            ]
          },
          "metadata": {
            "tags": []
          },
          "execution_count": 13
        }
      ]
    }
  ]
}