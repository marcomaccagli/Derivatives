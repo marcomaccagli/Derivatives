{
  "nbformat": 4,
  "nbformat_minor": 0,
  "metadata": {
    "colab": {
      "name": "European Options Pricing and Greeks.ipynb",
      "provenance": []
    },
    "kernelspec": {
      "name": "python3",
      "display_name": "Python 3"
    }
  },
  "cells": [
    {
      "cell_type": "markdown",
      "metadata": {
        "id": "FISy5d7sKsOM",
        "colab_type": "text"
      },
      "source": [
        "## Call Option"
      ]
    },
    {
      "cell_type": "code",
      "metadata": {
        "id": "4pNw7gzyRjDL",
        "colab_type": "code",
        "colab": {}
      },
      "source": [
        "import math\n",
        "import numpy as np\n",
        "from scipy.stats import norm\n",
        "import scipy.stats as si\n",
        "\n",
        "class EU_Call:\n",
        "  # PRICE\n",
        "  def call_price( self, S0, vol, K, T, rf):\n",
        "    d1 = (np.log(S0 / K) + (rf + 0.5 * vol ** 2) * T) / (vol * np.sqrt(T))\n",
        "    d2 = (np.log(S0 / K) + (rf - 0.5 * vol ** 2) * T) / (vol * np.sqrt(T))\n",
        "    price= S0 * norm.cdf(d1) - K * math.exp(-rf*T) * norm.cdf(d2)\n",
        "    return price\n",
        "\n",
        "  #DELTA\n",
        "  #The first derivative of the option price with respect to the underlying\n",
        "  def call_delta(self, S0, vol, K, T, rf):\n",
        "    d1 = (np.log(S0 / K) + (rf + 0.5 * vol ** 2) * T) / (vol * np.sqrt(T))\n",
        "    z1 = norm.cdf(d1)\n",
        "    return z1\n",
        "  \n",
        "  #GAMMA\n",
        "  #The second derivative of the option price wrt the underlying stock\n",
        "  def call_gamma(self, S0, vol, K, T, rf):\n",
        "    d1 = (np.log(S0 / K) + (rf + 0.5 * vol ** 2) * T) / (vol * np.sqrt(T))\n",
        "    d2 = (np.log(S0 / K) + (rf - 0.5 * vol ** 2) * T) / (vol * np.sqrt(T))\n",
        "    prob_density = 1 / np.sqrt(2 * np.pi) * np.exp(-d1 ** 2 * 0.5)\n",
        "    g = prob_density / (S0 * vol * np.sqrt(T))\n",
        "    return g\n",
        "  \n",
        "  #THETA\n",
        "  #The partial with respect to time-to-maturity.\n",
        "  def call_theta(self, S0, vol, K, T, rf):\n",
        "    d1 = (np.log(S0 / K) + (rf + 0.5 * vol ** 2) * T) / (vol * np.sqrt(T))\n",
        "    d2 = (np.log(S0 / K) + (rf - 0.5 * vol ** 2) * T) / (vol * np.sqrt(T))\n",
        "    prob_density = 1 / np.sqrt(2 * np.pi) * np.exp(-d1 ** 2 * 0.5)\n",
        "    th =  -(prob_density * S0* vol)/(2*math.sqrt(T)) - rf * K * math.exp(-rf*T)*norm.cdf(d2)\n",
        "    return th\n",
        "  \n",
        "  #VEGA\n",
        "  #The partial with respect to volatility\n",
        "  def call_vega(self, S0, vol, K, T, rf):\n",
        "    d1 = (np.log(S0 / K) + (rf + 0.5 * vol ** 2) * T) / (vol * np.sqrt(T))\n",
        "    d2 = (np.log(S0 / K) + (rf - 0.5 * vol ** 2) * T) / (vol * np.sqrt(T))\n",
        "    ve = S0 * math.sqrt(T) * norm.cdf(d1)\n",
        "    return ve\n",
        "\n",
        "  #RHO\n",
        "  #The partial with respect to the interest rate.\n",
        "  def call_rho(self, S0, vol, K, T, rf):\n",
        "    d1 = (np.log(S0 / K) + (rf + 0.5 * vol ** 2) * T) / (vol * np.sqrt(T))\n",
        "    d2 = (np.log(S0 / K) + (rf - 0.5 * vol ** 2) * T) / (vol * np.sqrt(T))\n",
        "    rh = K * T * math.exp(-rf*T) * norm.cdf(d2)\n",
        "    return rh\n",
        "  \n",
        "  def __init__(self, S0, vol, K, T, rf):\n",
        "    self.S0 = S0\n",
        "    self.vol = vol\n",
        "    self.K = K\n",
        "    self.T = T\n",
        "    self.rf = rf\n",
        "    self.price = self.call_price(S0, vol, K, T, rf)\n",
        "    self.delta=self.call_delta(S0, vol, K, T, rf)\n",
        "    self.gamma=self.call_gamma(S0, vol, K, T, rf)\n",
        "    self.theta=self.call_theta(S0, vol, K, T, rf)\n",
        "    self.vega=self.call_vega(S0, vol, K, T, rf)\n",
        "    self.rho=self.call_rho(S0, vol, K, T, rf)"
      ],
      "execution_count": 7,
      "outputs": []
    },
    {
      "cell_type": "code",
      "metadata": {
        "id": "amipockXU1Ac",
        "colab_type": "code",
        "colab": {
          "base_uri": "https://localhost:8080/",
          "height": 121
        },
        "outputId": "6a4beb0c-f8f7-461d-b796-249e12c321ea"
      },
      "source": [
        "print('Black-Scholes European Call price: ', EU_Call(300, .32, 300, 3, .05).price)\n",
        "print('Black-Scholes European Call delta: ', EU_Call(300, .32, 300, 3, .05).delta)\n",
        "print('Black-Scholes European Call gamma: ', EU_Call(300, .32, 300, 3, .05).gamma)\n",
        "print('Black-Scholes European Call theta: ', EU_Call(300, .32, 300, 3, .05).theta)\n",
        "print('Black-Scholes European Call vega: ', EU_Call(300, .32, 300, 3, .058).vega)\n",
        "print('Black-Scholes European Call rho: ', EU_Call(300, .32, 300, 3, .05).rho)"
      ],
      "execution_count": 8,
      "outputs": [
        {
          "output_type": "stream",
          "text": [
            "Black-Scholes European Call price:  83.98448423348955\n",
            "Black-Scholes European Call delta:  0.7080720128953903\n",
            "Black-Scholes European Call gamma:  0.002065022900589953\n",
            "Black-Scholes European Call theta:  -15.937481507674882\n",
            "Black-Scholes European Call vega:  375.55746238618576\n",
            "Black-Scholes European Call rho:  385.31135890538263\n"
          ],
          "name": "stdout"
        }
      ]
    },
    {
      "cell_type": "markdown",
      "metadata": {
        "id": "G5oYeuC_KO81",
        "colab_type": "text"
      },
      "source": [
        "## Put Option"
      ]
    },
    {
      "cell_type": "code",
      "metadata": {
        "id": "BFfXDNwfPlRw",
        "colab_type": "code",
        "colab": {}
      },
      "source": [
        "import math\n",
        "import numpy as np\n",
        "from scipy.stats import norm\n",
        "import scipy.stats as si\n",
        "\n",
        "class EU_Put:\n",
        "\n",
        "    #PRICE\n",
        "    def put_price(self, S0, vol, K, T, rf):\n",
        "        d1 = (np.log(S0 / K) + (rf + 0.5 * vol ** 2) * T) / (vol * np.sqrt(T))\n",
        "        d2 = (np.log(S0 / K) + (rf - 0.5 * vol ** 2) * T) / (vol * np.sqrt(T))\n",
        "        price= K*math.exp(-rf*T)*norm.cdf(-d2)-S0*norm.cdf(-d1)\n",
        "        return price\n",
        "\n",
        "    #DELTA\n",
        "    #The first derivative of the option price with respect to the underlying\n",
        "    def put_delta(self, S0, vol, K, T, rf):\n",
        "        d1 = (np.log(S0 / K) + (rf + 0.5 * vol ** 2) * T) / (vol * np.sqrt(T))\n",
        "        z1 = -norm.cdf(-d1)\n",
        "        return z1\n",
        "\n",
        "    #GAMMA\n",
        "    #The second derivative of the option price wrt the underlying stock\n",
        "    def put_gamma(self, S0, vol, K, T, rf):\n",
        "        d1 = (np.log(S0 / K) + (rf + 0.5 * vol ** 2) * T) / (vol * np.sqrt(T))\n",
        "        d2 = (np.log(S0 / K) + (rf - 0.5 * vol ** 2) * T) / (vol * np.sqrt(T))\n",
        "        prob_density = 1 / np.sqrt(2 * np.pi) * np.exp(-d1 ** 2 * 0.5)\n",
        "        g = prob_density / (S0 * vol * np.sqrt(T))\n",
        "        return g\n",
        "    \n",
        "    #THETA\n",
        "    #The partial with respect to time-to-maturity.\n",
        "    def put_theta(self, S0, vol, K, T, rf):\n",
        "        d1 = (np.log(S0 / K) + (rf + 0.5 * vol ** 2) * T) / (vol * np.sqrt(T))\n",
        "        d2 = (np.log(S0 / K) + (rf - 0.5 * vol ** 2) * T) / (vol * np.sqrt(T))\n",
        "        prob_density = 1 / np.sqrt(2 * np.pi) * np.exp(-d1 ** 2 * 0.5)\n",
        "        th =  -(prob_density * S0* vol)/(2*math.sqrt(T)) + rf * K * math.exp(-rf*T)*norm.cdf(-d2)\n",
        "        return th\n",
        "\n",
        "    #VEGA\n",
        "    #The partial with respect to volatility\n",
        "    def put_vega(self, S0, vol, K, T, rf):\n",
        "        d1 = (np.log(S0 / K) + (rf + 0.5 * vol ** 2) * T) / (vol * np.sqrt(T))\n",
        "        d2 = (np.log(S0 / K) + (rf - 0.5 * vol ** 2) * T) / (vol * np.sqrt(T))\n",
        "        ve = S0 * math.sqrt(T) * norm.cdf(d1)\n",
        "        return ve\n",
        "\n",
        "    #RHO\n",
        "    #The partial with respect to the interest rate.\n",
        "    def put_rho(self, S0, vol, K, T, rf):\n",
        "        d1 = (np.log(S0 / K) + (rf + 0.5 * vol ** 2) * T) / (vol * np.sqrt(T))\n",
        "        d2 = (np.log(S0 / K) + (rf - 0.5 * vol ** 2) * T) / (vol * np.sqrt(T))\n",
        "        rh = - K * T * math.exp(-rf*T) * norm.cdf(-d2)\n",
        "        return rh\n",
        "\n",
        "    def __init__(self, S0, vol, K, T, rf):\n",
        "        self.asset_price = S0\n",
        "        self.asset_volatility = vol\n",
        "        self.strike_price = K\n",
        "        self.time_to_expiration = T\n",
        "        self.risk_free_rate = rf\n",
        "        self.price = self.put_price(S0, vol, K, T, rf)\n",
        "        self.delta = self.put_delta(S0, vol, K, T, rf)\n",
        "        self.gamma = self.put_gamma(S0, vol, K, T, rf)\n",
        "        self.vega = self.put_vega(S0, vol, K, T, rf)\n",
        "        self.theta=self.put_theta(S0, vol, K, T, rf)\n",
        "        self.rho=self.put_rho(S0, vol, K, T, rf)\n"
      ],
      "execution_count": 9,
      "outputs": []
    },
    {
      "cell_type": "code",
      "metadata": {
        "id": "MdZ8hpsm3obc",
        "colab_type": "code",
        "colab": {
          "base_uri": "https://localhost:8080/",
          "height": 121
        },
        "outputId": "0b95d83e-ec66-4c07-e0f3-711c6929f710"
      },
      "source": [
        "print('Black-Scholes European Put price: ', EU_Put(300, .32, 300, 3, .05).price)\n",
        "print('Black-Scholes European Put delta: ', EU_Put(300, .32, 300, 3, .05).delta)\n",
        "print('Black-Scholes European Put gamma: ', EU_Put(300, .32, 300, 3, .05).gamma)\n",
        "print('Black-Scholes European Put theta: ', EU_Put(300, .32, 300, 3, .05).theta)\n",
        "print('Black-Scholes European Put vega: ', EU_Put(300, .32, 300, 3, .05).vega)\n",
        "print('Black-Scholes European Put rho: ', EU_Put(300, .32, 300, 3, .05).rho)"
      ],
      "execution_count": 10,
      "outputs": [
        {
          "output_type": "stream",
          "text": [
            "Black-Scholes European Put price:  42.19687716100688\n",
            "Black-Scholes European Put delta:  -0.29192798710460965\n",
            "Black-Scholes European Put gamma:  0.002065022900589953\n",
            "Black-Scholes European Put theta:  -3.0268618612990155\n",
            "Black-Scholes European Put vega:  367.9250105257144\n",
            "Black-Scholes European Put rho:  -389.3258198771694\n"
          ],
          "name": "stdout"
        }
      ]
    }
  ]
}